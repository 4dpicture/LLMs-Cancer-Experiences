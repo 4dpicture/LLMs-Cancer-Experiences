{
  "cells": [
    {
      "cell_type": "markdown",
      "source": [
        "# **Leveraging LLMs to Extract Cancer Patient Experiences**\n",
        "---"
      ],
      "metadata": {
        "id": "4bxlqtZcF_SV"
      }
    },
    {
      "cell_type": "code",
      "execution_count": 1,
      "metadata": {
        "colab": {
          "base_uri": "https://localhost:8080/"
        },
        "id": "sFAfCcuREb8o",
        "outputId": "33253acb-5984-4db5-f8c5-ba460098b2d7",
        "collapsed": true
      },
      "outputs": [
        {
          "output_type": "stream",
          "name": "stdout",
          "text": [
            "Requirement already satisfied: openai in /usr/local/lib/python3.12/dist-packages (1.100.0)\n",
            "Collecting openai\n",
            "  Downloading openai-1.101.0-py3-none-any.whl.metadata (29 kB)\n",
            "Requirement already satisfied: anyio<5,>=3.5.0 in /usr/local/lib/python3.12/dist-packages (from openai) (4.10.0)\n",
            "Requirement already satisfied: distro<2,>=1.7.0 in /usr/local/lib/python3.12/dist-packages (from openai) (1.9.0)\n",
            "Requirement already satisfied: httpx<1,>=0.23.0 in /usr/local/lib/python3.12/dist-packages (from openai) (0.28.1)\n",
            "Requirement already satisfied: jiter<1,>=0.4.0 in /usr/local/lib/python3.12/dist-packages (from openai) (0.10.0)\n",
            "Requirement already satisfied: pydantic<3,>=1.9.0 in /usr/local/lib/python3.12/dist-packages (from openai) (2.11.7)\n",
            "Requirement already satisfied: sniffio in /usr/local/lib/python3.12/dist-packages (from openai) (1.3.1)\n",
            "Requirement already satisfied: tqdm>4 in /usr/local/lib/python3.12/dist-packages (from openai) (4.67.1)\n",
            "Requirement already satisfied: typing-extensions<5,>=4.11 in /usr/local/lib/python3.12/dist-packages (from openai) (4.14.1)\n",
            "Requirement already satisfied: idna>=2.8 in /usr/local/lib/python3.12/dist-packages (from anyio<5,>=3.5.0->openai) (3.10)\n",
            "Requirement already satisfied: certifi in /usr/local/lib/python3.12/dist-packages (from httpx<1,>=0.23.0->openai) (2025.8.3)\n",
            "Requirement already satisfied: httpcore==1.* in /usr/local/lib/python3.12/dist-packages (from httpx<1,>=0.23.0->openai) (1.0.9)\n",
            "Requirement already satisfied: h11>=0.16 in /usr/local/lib/python3.12/dist-packages (from httpcore==1.*->httpx<1,>=0.23.0->openai) (0.16.0)\n",
            "Requirement already satisfied: annotated-types>=0.6.0 in /usr/local/lib/python3.12/dist-packages (from pydantic<3,>=1.9.0->openai) (0.7.0)\n",
            "Requirement already satisfied: pydantic-core==2.33.2 in /usr/local/lib/python3.12/dist-packages (from pydantic<3,>=1.9.0->openai) (2.33.2)\n",
            "Requirement already satisfied: typing-inspection>=0.4.0 in /usr/local/lib/python3.12/dist-packages (from pydantic<3,>=1.9.0->openai) (0.4.1)\n",
            "Downloading openai-1.101.0-py3-none-any.whl (810 kB)\n",
            "\u001b[2K   \u001b[90m━━━━━━━━━━━━━━━━━━━━━━━━━━━━━━━━━━━━━━━━\u001b[0m \u001b[32m810.8/810.8 kB\u001b[0m \u001b[31m20.4 MB/s\u001b[0m eta \u001b[36m0:00:00\u001b[0m\n",
            "\u001b[?25hInstalling collected packages: openai\n",
            "  Attempting uninstall: openai\n",
            "    Found existing installation: openai 1.100.0\n",
            "    Uninstalling openai-1.100.0:\n",
            "      Successfully uninstalled openai-1.100.0\n",
            "Successfully installed openai-1.101.0\n"
          ]
        }
      ],
      "source": [
        "%pip install openai --upgrade"
      ]
    },
    {
      "cell_type": "code",
      "execution_count": 2,
      "metadata": {
        "id": "w1xCqxYTwXmx"
      },
      "outputs": [],
      "source": [
        "import json\n",
        "import pandas as pd"
      ]
    },
    {
      "cell_type": "code",
      "execution_count": 3,
      "metadata": {
        "colab": {
          "base_uri": "https://localhost:8080/"
        },
        "id": "jaertlAyGoEq",
        "outputId": "84951244-8d06-41a8-892a-525edaf6b9e5"
      },
      "outputs": [
        {
          "name": "stdout",
          "output_type": "stream",
          "text": [
            "Please enter your OpenAI Key:··········\n"
          ]
        }
      ],
      "source": [
        "import openai\n",
        "import re\n",
        "import getpass\n",
        "\n",
        "openai.api_key = getpass.getpass(\"Please enter your OpenAI Key:\")"
      ]
    },
    {
      "cell_type": "code",
      "execution_count": 4,
      "metadata": {
        "colab": {
          "base_uri": "https://localhost:8080/",
          "height": 38
        },
        "id": "8LJmYsdt_dOD",
        "outputId": "57e0fe9e-07a5-49df-b84b-a7edacbc1b88"
      },
      "outputs": [
        {
          "output_type": "execute_result",
          "data": {
            "text/plain": [
              "'Yes, it appears to be working as I am able to respond to your inquiry. Let me know if you need assistance with anything else.'"
            ],
            "application/vnd.google.colaboratory.intrinsic+json": {
              "type": "string"
            }
          },
          "metadata": {},
          "execution_count": 4
        }
      ],
      "source": [
        "def complete(prompt):\n",
        "    response = openai.chat.completions.create(\n",
        "        model=\"gpt-3.5-turbo\",\n",
        "        messages=[\n",
        "            {\n",
        "            \"role\": \"user\",\n",
        "            \"content\": prompt\n",
        "            }\n",
        "        ],\n",
        "    )\n",
        "    return response.choices[0].message.content\n",
        "\n",
        "complete(\"is this working?\")"
      ]
    },
    {
      "cell_type": "code",
      "source": [
        "sentences = [\n",
        "    \"I cared for her for over a year before that, and during that time, I leaned on our reddit community for support, advice, tips, and sometimes a much-needed reality check.\",\n",
        "    \"During my caregiving journey, I realized the need for better support tools for family caregivers like myself.\",\n",
        "    \"With insights from many of you in the palliative care community, we've developed Pal: Caregiver Support, which is available on the App Store/Google Play.\",\n",
        "    \"In Nov 2020, I lost my mom to small-cell lung cancer.\",\n",
        "    \"I don't know what we would have done without palliative care.\",\n",
        "    \"During my caregiving journey, I realized the need for better support tools for family caregivers like myself.\",\n",
        "    \"I just had so many questions, concerns, and a need to educate myself and keep track of everything.\",\n",
        "    \"This is probably just a shot in the dark but I would love to hear your opinions.\",\n",
        "    \"It’s late and I can’t sleep.\",\n",
        "    \"The general surgeon doesn’t think it’s worth it to try surgery.'\",\n",
        "    \"The oncologist says that stage IV cancer isn’t what it used to be, and she could still have a significant amount of time left.\",\n",
        "    \"Her most recent radiation treatment was one month ago.\",\n",
        "    \"Her most recent chemo treatment was a few months ago.\",\n",
        "    \"My father was recently diagnosed with cancer.\"\n",
        "]"
      ],
      "metadata": {
        "id": "xE1EhaKszg2P"
      },
      "execution_count": 5,
      "outputs": []
    },
    {
      "cell_type": "markdown",
      "source": [
        "---\n",
        "#**Themes**"
      ],
      "metadata": {
        "id": "PDdK3y5_1zYx"
      }
    },
    {
      "cell_type": "code",
      "execution_count": 6,
      "metadata": {
        "id": "3kqZ8by6EaQf"
      },
      "outputs": [],
      "source": [
        "themes = []\n",
        "for sent in sentences:\n",
        "    base_prompt = f\"\"\"Themes are recurring topics, ideas, or concepts that provide insight into shared experiences, emotions, and challenges faced by individuals affected by cancer.\n",
        "                            Themes may include coping strategies (how individuals deal with challenges), emotional responses (feelings such as fear, resilience, or gratitude),\n",
        "                            relationships and support (the role of family, friends, and healthcare providers), challenges and triumphs, meaning-making and resilience, and\n",
        "                            healthcare experiences (interactions with the healthcare system).\n",
        "                            Analyzing these themes can help understand the diverse experiences of cancer patients and inform tailored support and interventions.\n",
        "\n",
        "                            Identify themes in the cancer narrative.\n",
        "\n",
        "                            Narrative: {sent}\n",
        "\n",
        "                            Return the results as a JSON object in the following format:\n",
        "                            - Label: theme category\n",
        "                            - Evidence: [a comma separated list of all supporting sentences from the narrative]\n",
        "                            - Related themes: [a comma separated list of closely related themes]\"\"\"\n",
        "\n",
        "    result = complete(base_prompt)\n",
        "    themes.append(result)"
      ]
    },
    {
      "cell_type": "code",
      "source": [
        "for item in themes:\n",
        "    for key, value in json.loads(item).items():\n",
        "        print(value)"
      ],
      "metadata": {
        "colab": {
          "base_uri": "https://localhost:8080/"
        },
        "id": "qlRdfSWvCKYs",
        "outputId": "eaafe622-a049-4b59-be00-2933924a3d3a"
      },
      "execution_count": 27,
      "outputs": [
        {
          "output_type": "stream",
          "name": "stdout",
          "text": [
            "[{'Label': 'Support and Community', 'Evidence': ['I leaned on our reddit community for support, advice, tips, and sometimes a much-needed reality check.'], 'Related themes': ['Relationships and Support', 'Coping Strategies']}]\n",
            "[{'Label': 'Caregiving challenges and support', 'Evidence': ['During my caregiving journey, I realized the need for better support tools for family caregivers like myself.'], 'Related themes': ['Coping strategies', 'Relationships and support', 'Healthcare experiences']}]\n",
            "[{'Label': 'Support and Caregiving', 'Evidence': [\"With insights from many of you in the palliative care community, we've developed Pal: Caregiver Support, which is available on the App Store/Google Play.\"], 'Related themes': ['Relationships and Support', 'Healthcare Experiences']}]\n",
            "[{'Label': 'Loss and Grief', 'Evidence': ['In Nov 2020, I lost my mom to small-cell lung cancer.'], 'Related themes': ['Emotional Responses', 'Meaning-making and Resilience']}, {'Label': 'Family and Support', 'Evidence': ['In Nov 2020, I lost my mom to small-cell lung cancer.'], 'Related themes': ['Relationships and Support', 'Coping Strategies']}, {'Label': 'Healthcare Experiences', 'Evidence': ['In Nov 2020, I lost my mom to small-cell lung cancer.'], 'Related themes': []}]\n",
            "[{'Label': 'Healthcare experiences', 'Evidence': [\"I don't know what we would have done without palliative care.\"], 'Related themes': ['Support and relationships', 'Challenges and triumphs']}]\n",
            "[{'Label': 'relationships and support', 'Evidence': ['During my caregiving journey, I realized the need for better support tools for family caregivers like myself.'], 'Related themes': ['coping strategies', 'challenges and triumphs', 'healthcare experiences']}]\n",
            "[{'label': 'Healthcare Experiences', 'evidence': ['I just had so many questions, concerns, and a need to educate myself and keep track of everything.'], 'related themes': ['Coping Strategies', 'Relationships and Support']}]\n",
            "[{'label': 'Hope and Uncertainty', 'evidence': ['This is probably just a shot in the dark but I would love to hear your opinions.'], 'related_themes': ['Emotional Responses', 'Coping Strategies']}]\n",
            "[{'Label': 'Emotional responses', 'Evidence': ['It’s late and I can’t sleep.'], 'Related themes': ['Coping strategies', 'Relationships and support', 'Challenges and triumphs', 'Meaning-making and resilience', 'Healthcare experiences']}]\n",
            "[{'Label': 'Healthcare experiences', 'Evidence': ['The general surgeon doesn’t think it’s worth it to try surgery.'], 'Related themes': []}]\n",
            "[{'Label': 'Hope and optimism', 'Evidence': ['The oncologist says that stage IV cancer isn’t what it used to be, and she could still have a significant amount of time left.'], 'Related themes': ['Resilience', 'Healthcare experiences']}]\n",
            "[{'Label': 'Healthcare experiences', 'Evidence': ['Her most recent radiation treatment was one month ago.'], 'Related themes': ['Coping strategies', 'Challenges and triumphs']}]\n",
            "[{'Label': 'Healthcare experiences', 'Evidence': ['Her most recent chemo treatment was a few months ago.'], 'Related themes': ['Coping strategies', 'Emotional responses']}]\n",
            "[{'Label': 'Emotional responses', 'Evidence': ['My father was recently diagnosed with cancer.'], 'Related themes': ['Coping strategies', 'Relationships and support', 'Challenges and triumphs', 'Meaning-making and resilience', 'Healthcare experiences']}, {'Label': 'Relationships and support', 'Evidence': ['My father was recently diagnosed with cancer.'], 'Related themes': ['Emotional responses', 'Coping strategies', 'Challenges and triumphs', 'Meaning-making and resilience', 'Healthcare experiences']}, {'Label': 'Coping strategies', 'Evidence': [], 'Related themes': ['Emotional responses', 'Relationships and support', 'Challenges and triumphs', 'Meaning-making and resilience', 'Healthcare experiences']}, {'Label': 'Challenges and triumphs', 'Evidence': [], 'Related themes': ['Emotional responses', 'Relationships and support', 'Coping strategies', 'Meaning-making and resilience', 'Healthcare experiences']}, {'Label': 'Meaning-making and resilience', 'Evidence': [], 'Related themes': ['Emotional responses', 'Relationships and support', 'Coping strategies', 'Challenges and triumphs', 'Healthcare experiences']}, {'Label': 'Healthcare experiences', 'Evidence': [], 'Related themes': ['Emotional responses', 'Relationships and support', 'Coping strategies', 'Challenges and triumphs', 'Meaning-making and resilience']}]\n"
          ]
        }
      ]
    },
    {
      "cell_type": "markdown",
      "source": [
        "---\n",
        "# **Concerns**"
      ],
      "metadata": {
        "id": "NmHsvOUf152L"
      }
    },
    {
      "cell_type": "code",
      "source": [
        "concerns = []\n",
        "for sent in sentences:\n",
        "    base_prompt = f\"\"\"Patient concerns in healthcare refer to the specific issues or challenges that patients identify as important to their health and well-being.\n",
        "                                These are the areas of focus or attention that patients express during interactions with healthcare providers.\n",
        "                                Patient concerns may also be defined as the worries, anxieties, and needs that individuals have regarding their health, medical care, and well-being.\n",
        "                                These concerns encompass a wide range of issues, including medical conditions and symptoms, quality of care, communication and information,\n",
        "                                access to care, emotional and psycological support, and respect for dignity by their healthcare providers, maintaining autonomy in healthcare decisions.\n",
        "\n",
        "                                Identify the concerns expressed by the author.\n",
        "\n",
        "                                Narrative: {sent}\n",
        "\n",
        "                                Return the results as a JSON object in the following format:\n",
        "                                - Label: concern category\n",
        "                                - Evidence: [a comma separated list of all supporting sentences from the narrative]\"\"\"\n",
        "\n",
        "    result = complete(base_prompt)\n",
        "    concerns.append(result)"
      ],
      "metadata": {
        "id": "9AP2sGO12VFR"
      },
      "execution_count": 37,
      "outputs": []
    },
    {
      "cell_type": "code",
      "source": [
        "for item in concerns:\n",
        "    for key, value in json.loads(item).items():\n",
        "        print(value)"
      ],
      "metadata": {
        "colab": {
          "base_uri": "https://localhost:8080/"
        },
        "id": "K4hI0L48FD25",
        "outputId": "d7e4cc22-0812-4109-f7d8-3d292cab318c"
      },
      "execution_count": 38,
      "outputs": [
        {
          "output_type": "stream",
          "name": "stdout",
          "text": [
            "[{'Label': 'Emotional and psychological support', 'Evidence': ['during that time, I leaned on our reddit community for support, advice, tips, and sometimes a much-needed reality check']}]\n",
            "[{'Label': 'support tools for family caregivers', 'Evidence': ['During my caregiving journey, I realized the need for better support tools for family caregivers like myself.']}]\n",
            "[{'Label': 'Access to care', 'Evidence': ['which is available on the App Store/Google Play']}, {'Label': 'Quality of care', 'Evidence': [\"With insights from many of you in the palliative care community, we've developed Pal: Caregiver Support\"]}]\n",
            "[{'label': 'emotional and psychological support', 'evidence': ['In Nov 2020, I lost my mom to small-cell lung cancer.']}]\n",
            "[{'Label': 'Quality of care', 'Evidence': [\"I don't know what we would have done without palliative care.\"]}]\n",
            "[{'Label': 'support tools for family caregivers', 'Evidence': ['During my caregiving journey, I realized the need for better support tools for family caregivers like myself.']}]\n",
            "[{'Label': 'information and education', 'Evidence': ['I just had so many questions, concerns, and a need to educate myself and keep track of everything.']}]\n",
            "[{'Label': 'Quality of care', 'Evidence': ['This is probably just a shot in the dark but I would love to hear your opinions.']}, {'Label': 'Communication and information', 'Evidence': ['This is probably just a shot in the dark but I would love to hear your opinions.']}]\n",
            "[{'Label': 'Emotional and Psychological Support', 'Evidence': ['It’s late and I can’t sleep.']}]\n",
            "[{'Label': 'Medical treatment', 'Evidence': ['The general surgeon doesn’t think it’s worth it to try surgery.']}]\n",
            "[{'Label': 'Medical condition and prognosis', 'Evidence': ['The oncologist says that stage IV cancer isn’t what it used to be, and she could still have a significant amount of time left.']}]\n",
            "[{'Label': 'Medical condition and symptoms', 'Evidence': ['Her most recent radiation treatment was one month ago.']}]\n",
            "[{'Label': 'Medical condition and symptoms', 'Evidence': ['Her most recent chemo treatment was a few months ago.']}]\n",
            "[{'Label': 'Medical condition', 'Evidence': ['My father was recently diagnosed with cancer.']}, {'Label': 'Quality of care', 'Evidence': []}, {'Label': 'Communication and information', 'Evidence': []}, {'Label': 'Access to care', 'Evidence': []}, {'Label': 'Emotional and psychological support', 'Evidence': []}, {'Label': 'Respect for dignity', 'Evidence': []}, {'Label': 'Autonomy in healthcare decisions', 'Evidence': []}]\n"
          ]
        }
      ]
    },
    {
      "cell_type": "markdown",
      "source": [
        " **End.**\n",
        "\n",
        " ---"
      ],
      "metadata": {
        "id": "7S8EbdjMF0g_"
      }
    }
  ],
  "metadata": {
    "colab": {
      "provenance": []
    },
    "kernelspec": {
      "display_name": "Python 3",
      "name": "python3"
    },
    "language_info": {
      "codemirror_mode": {
        "name": "ipython",
        "version": 3
      },
      "file_extension": ".py",
      "mimetype": "text/x-python",
      "name": "python",
      "nbconvert_exporter": "python",
      "pygments_lexer": "ipython3",
      "version": "3.11.3"
    }
  },
  "nbformat": 4,
  "nbformat_minor": 0
}